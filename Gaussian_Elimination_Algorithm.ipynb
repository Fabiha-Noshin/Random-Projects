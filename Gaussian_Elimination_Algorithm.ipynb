{
  "cells": [
    {
      "cell_type": "code",
      "execution_count": null,
      "metadata": {
        "id": "ke2zRxfumLD3"
      },
      "outputs": [],
      "source": [
        "import numpy as np"
      ]
    },
    {
      "cell_type": "markdown",
      "metadata": {
        "id": "9yh0UHSg9ueM"
      },
      "source": [
        "Augmented Matrix:"
      ]
    },
    {
      "cell_type": "code",
      "execution_count": null,
      "metadata": {
        "colab": {
          "base_uri": "https://localhost:8080/"
        },
        "id": "Xt1wVShqpV5Y",
        "outputId": "02ec157b-63b1-4912-d990-8a74cca136cb"
      },
      "outputs": [
        {
          "output_type": "stream",
          "name": "stdout",
          "text": [
            "[[2 3 4 1]\n",
            " [3 4 2 5]\n",
            " [7 3 9 7]]\n"
          ]
        }
      ],
      "source": [
        "d= 3                                #dimension dx(d+1).......d=number of rows\n",
        "\n",
        "line1= np.array([2,3,4,1])\n",
        "line2= np.array([3,4,2,5])           #system of linear equations \n",
        "line3= np.array([7,3,9,7])\n",
        "\n",
        "augmented_matrix= np.array([line1, line2, line3])\n",
        "#coefficient_matrix= np.delete(augmented_matrix,d,d-2)\n",
        "#print(coefficient_matrix)\n",
        "print(augmented_matrix)  "
      ]
    },
    {
      "cell_type": "markdown",
      "metadata": {
        "id": "nsyp81ap9jk1"
      },
      "source": [
        "Converting Augmented Matrix to Echelon form:"
      ]
    },
    {
      "cell_type": "code",
      "execution_count": null,
      "metadata": {
        "colab": {
          "base_uri": "https://localhost:8080/"
        },
        "id": "WaCRSgtXaNDD",
        "outputId": "4c2354a7-59ed-4d4d-97ec-7810ae3de5d1"
      },
      "outputs": [
        {
          "output_type": "stream",
          "name": "stdout",
          "text": [
            "[[ 2.          3.          4.          1.        ]\n",
            " [ 0.          2.14285714  1.42857143 -1.        ]\n",
            " [ 0.          0.          2.44444444 -2.17777778]]\n"
          ]
        }
      ],
      "source": [
        "dummylist1= [augmented_matrix[0]]\n",
        "dummylist2= [augmented_matrix[0]]\n",
        "\n",
        "def echelon_form(augmented_matrix):\n",
        "\n",
        "  for j in range(2,d+1):\n",
        "    for i in range(2,d+1):\n",
        "      multiplier_i= augmented_matrix[j-2][j-2]/augmented_matrix[i-1][j-2]\n",
        "      line_i= augmented_matrix[j-2]- multiplier_i*augmented_matrix[i-1]\n",
        "      dummylist1.append(line_i) \n",
        "    dummylist2.append(line_i)  \n",
        "    augmented_matrix= np.array(dummylist1) \n",
        "  echelon_matrix= np.array(dummylist2)  \n",
        "  return echelon_matrix\n",
        "\n",
        "echelon_mat= echelon_form(augmented_matrix)\n",
        "print(echelon_mat) "
      ]
    },
    {
      "cell_type": "code",
      "execution_count": null,
      "metadata": {
        "colab": {
          "base_uri": "https://localhost:8080/"
        },
        "id": "JgXwE6wr_xES",
        "outputId": "59328bf9-aa8d-41fd-a087-e650821d2e17"
      },
      "outputs": [
        {
          "output_type": "stream",
          "name": "stdout",
          "text": [
            "The system of linear equations is consistent and has a unique solution.\n"
          ]
        }
      ],
      "source": [
        "echelonform_coefficient_mat= np.delete(echelon_mat,d,d-2)\n",
        "#print(echelonform_coefficient_mat)\n",
        "if np.allclose(echelonform_coefficient_mat, np.triu(echelonform_coefficient_mat))== True:\n",
        "  print('The system of linear equations is consistent and has a unique solution.')\n",
        "else:\n",
        "  print('The system of linear equations has either infinite number of solution or no solutions.')  "
      ]
    },
    {
      "cell_type": "markdown",
      "metadata": {
        "id": "9mcHjN94-wZf"
      },
      "source": [
        "Back Substituition:"
      ]
    },
    {
      "cell_type": "code",
      "execution_count": null,
      "metadata": {
        "id": "Er1F4UG74y0I",
        "colab": {
          "base_uri": "https://localhost:8080/"
        },
        "outputId": "87a67eb4-1494-4810-81ed-08ef15494452"
      },
      "outputs": [
        {
          "output_type": "stream",
          "name": "stdout",
          "text": [
            "The solution to the systems of linear equations is:\n",
            "------------------------------------------------------------\n",
            "X0= 2.090909090909091\n",
            "X1= 0.12727272727272726\n",
            "X2= -0.8909090909090908\n"
          ]
        }
      ],
      "source": [
        "x = np.zeros(d)\n",
        "\n",
        "x[d-1] = echelon_mat[d-1][d]/echelon_mat[d-1][d-1]\n",
        "for i in range(d-2,-1,-1):\n",
        "    x[i] = echelon_mat[i][d]\n",
        "    for j in range(i+1,d):\n",
        "        x[i] = x[i] - echelon_mat[i][j]*x[j]\n",
        "    x[i] = x[i]/echelon_mat[i][i]\n",
        "\n",
        "print('The solution to the systems of linear equations is:')\n",
        "print('---'*20)\n",
        "for i in range(d):\n",
        "    print('X'+str(i)+'=',x[i])"
      ]
    }
  ],
  "metadata": {
    "colab": {
      "provenance": []
    },
    "kernelspec": {
      "display_name": "Python 3",
      "name": "python3"
    },
    "language_info": {
      "name": "python"
    }
  },
  "nbformat": 4,
  "nbformat_minor": 0
}